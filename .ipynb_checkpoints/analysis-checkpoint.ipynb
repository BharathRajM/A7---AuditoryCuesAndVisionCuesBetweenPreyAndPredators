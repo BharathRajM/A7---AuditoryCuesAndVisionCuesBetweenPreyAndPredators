{
 "cells": [
  {
   "cell_type": "code",
   "execution_count": 149,
   "metadata": {},
   "outputs": [],
   "source": [
    "import pandas as pd"
   ]
  },
  {
   "cell_type": "code",
   "execution_count": 150,
   "metadata": {},
   "outputs": [],
   "source": [
    "# The data file to read\n",
    "data_file = 'cleaned-data.csv'\n",
    "# The number of runs in the file\n",
    "nruns = 60\n",
    "# The number of runs per condition\n",
    "nruns_per_condition = 10\n",
    "\n",
    "# The script is not exactly generic over the number of report variables used\n",
    "# In our case, it was 5; this is why you see the number 5 sprinkled throughout the code"
   ]
  },
  {
   "cell_type": "code",
   "execution_count": 151,
   "metadata": {},
   "outputs": [],
   "source": [
    "df = pd.read_csv(data_file, delimiter=';', low_memory=False)"
   ]
  },
  {
   "cell_type": "code",
   "execution_count": 152,
   "metadata": {},
   "outputs": [],
   "source": [
    "# Remove the label column\n",
    "df = df.iloc[:, 1:]\n",
    "# Spread the run variables to all the columns where it applies\n",
    "# (it turns out this was not necessary for the data layout I ended\n",
    "# up using, but I'm keeping it because it can be helpful when\n",
    "# inspecting the data)\n",
    "for i in range(nruns*5):\n",
    "    if i % 5 != 0:\n",
    "        df.iloc[0, i] = df.iloc[0, i - i % 5]\n",
    "        df.iloc[1, i] = df.iloc[0, i - i % 5]\n",
    "        df.iloc[2, i] = df.iloc[0, i - i % 5]"
   ]
  },
  {
   "cell_type": "code",
   "execution_count": 153,
   "metadata": {},
   "outputs": [],
   "source": [
    "# Make a dataframe indicating the experimental variables for each run\n",
    "vars = df.iloc[0:3, 0::5]\n",
    "vars = vars.rename(index={0: 'clusters', 1: 'audio-duration', 2: 'audio-range'})"
   ]
  },
  {
   "cell_type": "code",
   "execution_count": 178,
   "metadata": {},
   "outputs": [],
   "source": [
    "# Select the output variables we're interested in\n",
    "# And only capture the last value from the simulation\n",
    "# (because for these variables the intermediate values are not interesting)\n",
    "kills = df.iloc[4005, 1::5].astype('int32')\n",
    "lifetime = df.iloc[4005, 2::5].astype('float32')\n",
    "alive = df.iloc[4005, 0::5].astype('int32')"
   ]
  },
  {
   "cell_type": "code",
   "execution_count": 180,
   "metadata": {},
   "outputs": [
    {
     "name": "stdout",
     "output_type": "stream",
     "text": [
      "Condition nclusters=0, audiorange=0, audioduration=2\n",
      "\tMean predator kills: 8.7 ± 3.7133393177689658\n",
      "\tMean flock lifetime: 118.4422836303711 ± 39.94338607788086\n",
      "\tMean turtles left alive: 34.7 ± 3.529242915351047\n",
      "\n",
      "Condition nclusters=10, audiorange=0, audioduration=2\n",
      "\tMean predator kills: 6.3 ± 3.3015148038438356\n",
      "\tMean flock lifetime: 83.12199401855469 ± 39.57500457763672\n",
      "\tMean turtles left alive: 87.5 ± 2.9533408577782247\n",
      "\n",
      "Condition nclusters=0, audiorange=5, audioduration=2\n",
      "\tMean predator kills: 7.7 ± 2.2135943621178655\n",
      "\tMean flock lifetime: 113.74259948730469 ± 62.77781295776367\n",
      "\tMean turtles left alive: 35.9 ± 2.5582111805799856\n",
      "\n",
      "Condition nclusters=10, audiorange=5, audioduration=2\n",
      "\tMean predator kills: 7.2 ± 3.011090610836324\n",
      "\tMean flock lifetime: 70.68465423583984 ± 28.322362899780273\n",
      "\tMean turtles left alive: 86.5 ± 3.1710495984067415\n",
      "\n",
      "Condition nclusters=0, audiorange=10, audioduration=2\n",
      "\tMean predator kills: 6.8 ± 2.14993539954628\n",
      "\tMean flock lifetime: 82.8330307006836 ± 22.894041061401367\n",
      "\tMean turtles left alive: 37.0 ± 2.449489742783178\n",
      "\n",
      "Condition nclusters=10, audiorange=10, audioduration=2\n",
      "\tMean predator kills: 7.1 ± 2.5144029554194813\n",
      "\tMean flock lifetime: 64.76213073730469 ± 30.500219345092773\n",
      "\tMean turtles left alive: 87.6 ± 2.065591117977289\n",
      "\n"
     ]
    }
   ],
   "source": [
    "# Go through the different experimental conditions\n",
    "# and print a simple analysis of each\n",
    "for condition in range(nruns // nruns_per_condition):\n",
    "    vs = vars.iloc[:, condition]\n",
    "    ks = kills.iloc[condition::6]\n",
    "    ls = lifetime.iloc[condition::6]\n",
    "    als = alive.iloc[condition::6]\n",
    "    print('Condition nclusters={}, audiorange={}, audioduration={}'\n",
    "          .format(vs['clusters'], vs['audio-range'], vs['audio-duration']))\n",
    "    print('\\tMean predator kills: {} ± {}'.format(ks.mean(), ks.std()))\n",
    "    print('\\tMean flock lifetime: {} ± {}'.format(ls.mean(), ls.std()))\n",
    "    print('\\tMean turtles left alive: {} ± {}'.format(als.mean(), als.std()))\n",
    "    print('')"
   ]
  },
  {
   "cell_type": "code",
   "execution_count": null,
   "metadata": {},
   "outputs": [],
   "source": []
  }
 ],
 "metadata": {
  "kernelspec": {
   "display_name": "Python 3",
   "language": "python",
   "name": "python3"
  },
  "language_info": {
   "codemirror_mode": {
    "name": "ipython",
    "version": 3
   },
   "file_extension": ".py",
   "mimetype": "text/x-python",
   "name": "python",
   "nbconvert_exporter": "python",
   "pygments_lexer": "ipython3",
   "version": "3.7.7"
  }
 },
 "nbformat": 4,
 "nbformat_minor": 4
}
